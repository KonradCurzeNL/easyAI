{
 "cells": [
  {
   "cell_type": "markdown",
   "metadata": {},
   "source": [
    "# NeuralODE\n",
    "The proposed approach below is based on NeuralODE [[Chen et al, 2018](#1)].\n",
    "Neural Network is presented as ODE. During training ODE is solved "
   ]
  },
  {
   "cell_type": "code",
   "execution_count": 5,
   "metadata": {},
   "outputs": [],
   "source": [
    "import sys ; sys.path.append('../')\n",
    "from torchdyn.models import *\n",
    "from torchdyn.datasets import *\n",
    "from torchdyn import *\n",
    "\n",
    "import pickle\n",
    "import matplotlib.pyplot as plt"
   ]
  },
  {
   "cell_type": "code",
   "execution_count": 6,
   "metadata": {},
   "outputs": [],
   "source": [
    "with open('data.pickle', 'rb') as f:\n",
    "    D = pickle.load(f)"
   ]
  },
  {
   "cell_type": "code",
   "execution_count": 7,
   "metadata": {},
   "outputs": [],
   "source": [
    "sp = 10\n",
    "y_test = np.array([D['xs'], D['ys'], D['zs']]).T\n",
    "x_test = D['t'][..., None]\n",
    "y_train = y_test[::sp, 0]\n",
    "x_train = x_test[::sp]"
   ]
  },
  {
   "cell_type": "code",
   "execution_count": 8,
   "metadata": {},
   "outputs": [],
   "source": [
    "import torch\n",
    "import torch.utils.data as data\n",
    "device = torch.device(\"cuda:0\" if torch.cuda.is_available() else \"cpu\")"
   ]
  },
  {
   "cell_type": "code",
   "execution_count": 9,
   "metadata": {},
   "outputs": [],
   "source": [
    "X_train = torch.Tensor(x_train).to(device)\n",
    "Y_train = torch.Tensor(y_train).to(device)\n",
    "train = data.TensorDataset(X_train, Y_train)\n",
    "trainloader = data.DataLoader(train, batch_size=128, shuffle=True)"
   ]
  },
  {
   "cell_type": "code",
   "execution_count": 10,
   "metadata": {},
   "outputs": [],
   "source": [
    "import torch.nn as nn\n",
    "import pytorch_lightning as pl\n",
    "\n",
    "class Learner(pl.LightningModule):\n",
    "    def __init__(self, model:nn.Module):\n",
    "        super().__init__()\n",
    "        self.model = model\n",
    "    \n",
    "    def forward(self, x):\n",
    "        return self.model(x)\n",
    "\n",
    "    def training_step(self, batch, batch_idx):\n",
    "        x, y = batch\n",
    "        y_hat = self.model(x)\n",
    "        loss = nn.MSELoss()(y_hat, y)\n",
    "        logs = {'train_loss': loss}\n",
    "        return {'loss': loss, 'log': logs}   \n",
    "    \n",
    "    def configure_optimizers(self):\n",
    "        return torch.optim.Adam(self.model.parameters(), lr=1e-3)\n",
    "\n",
    "    def train_dataloader(self):\n",
    "        return trainloader"
   ]
  },
  {
   "cell_type": "markdown",
   "metadata": {},
   "source": [
    "Analogously to most forward neural models we want to realize a map \n",
    "\n",
    "$$\n",
    "        x \\mapsto \\hat y\n",
    "$$\n",
    "\n",
    "where  $\\hat y$ becomes the best approximation of a true output $y$ given an input $x$.\n",
    "In torchdyn you can define very simple Neural ODE models of the form \n",
    "\n",
    "$$ \\left\\{\n",
    "    \\begin{aligned}\n",
    "        \\dot{z}(s) &= f(z(s), \\theta)\\\\\n",
    "        z(0) &= x\\\\\n",
    "        \\hat y & = z(1)\n",
    "    \\end{aligned}\n",
    "    \\right. \\quad s\\in[0,1]\n",
    "$$\n",
    "\n",
    "by just specifying a neural network $f$ and giving some simple settings.\n",
    "\n",
    "**Note:** This Neural ODE model is of *depth-invariant* type as neither $f$ explicitly depend on $s$ nor the parameters $\\theta$ are depth-varying. Together with their *depth-variant* counterpart with $s$ concatenated in the vector field was first proposed and implemented by [[Chen T. Q. et al, 2018]](https://arxiv.org/abs/1806.07366)"
   ]
  },
  {
   "cell_type": "markdown",
   "metadata": {},
   "source": [
    "### Define the vector field (DEFunc) \n",
    "\n",
    "The first step is to define any PyTorch `torch.nn.Module`. This takes the role of the Neural ODE vector field $f(h,\\theta)$ "
   ]
  },
  {
   "cell_type": "code",
   "execution_count": 11,
   "metadata": {},
   "outputs": [],
   "source": [
    "f = nn.Sequential(\n",
    "        nn.Linear(1, 100),\n",
    "        nn.Tanh(),\n",
    "        nn.Linear(100, 100),\n",
    "        nn.Tanh(),\n",
    "        nn.Linear(100, 100),\n",
    "        nn.Tanh(),\n",
    "        nn.Linear(100, 1)                       \n",
    "    )"
   ]
  },
  {
   "cell_type": "code",
   "execution_count": 12,
   "metadata": {},
   "outputs": [],
   "source": [
    "model = NeuralDE(f, sensitivity='adjoint', solver='dopri5').to(device)"
   ]
  },
  {
   "cell_type": "code",
   "execution_count": 13,
   "metadata": {},
   "outputs": [
    {
     "name": "stderr",
     "output_type": "stream",
     "text": [
      "GPU available: False, used: False\n",
      "TPU available: False, using: 0 TPU cores\n",
      "\n",
      "  | Name  | Type      | Params\n",
      "------------------------------------\n",
      "0 | model | NeuralODE | 20 K  \n"
     ]
    },
    {
     "data": {
      "application/vnd.jupyter.widget-view+json": {
       "model_id": "3fe6a60c8e4048198295af75b3edd2d5",
       "version_major": 2,
       "version_minor": 0
      },
      "text/plain": [
       "HBox(children=(FloatProgress(value=1.0, bar_style='info', description='Training', layout=Layout(flex='2'), max…"
      ]
     },
     "metadata": {},
     "output_type": "display_data"
    },
    {
     "name": "stderr",
     "output_type": "stream",
     "text": [
      "C:\\ProgramData\\Anaconda3\\lib\\site-packages\\torch\\nn\\modules\\loss.py:446: UserWarning: Using a target size (torch.Size([128])) that is different to the input size (torch.Size([128, 1])). This will likely lead to incorrect results due to broadcasting. Please ensure they have the same size.\n",
      "  return F.mse_loss(input, target, reduction=self.reduction)\n",
      "C:\\ProgramData\\Anaconda3\\lib\\site-packages\\pytorch_lightning\\utilities\\distributed.py:45: UserWarning: The {log:dict keyword} was deprecated in 0.9.1 and will be removed in 1.0.0\n",
      "Please use self.log(...) inside the lightningModule instead.\n",
      "\n",
      "# log on a step or aggregate epoch metric to the logger and/or progress bar\n",
      "# (inside LightningModule)\n",
      "self.log('train_loss', loss, on_step=True, on_epoch=True, prog_bar=True)\n",
      "  warnings.warn(*args, **kwargs)\n",
      "C:\\ProgramData\\Anaconda3\\lib\\site-packages\\torch\\nn\\modules\\loss.py:446: UserWarning: Using a target size (torch.Size([17])) that is different to the input size (torch.Size([17, 1])). This will likely lead to incorrect results due to broadcasting. Please ensure they have the same size.\n",
      "  return F.mse_loss(input, target, reduction=self.reduction)\n"
     ]
    },
    {
     "name": "stdout",
     "output_type": "stream",
     "text": [
      "\n"
     ]
    },
    {
     "name": "stderr",
     "output_type": "stream",
     "text": [
      "C:\\ProgramData\\Anaconda3\\lib\\site-packages\\pytorch_lightning\\utilities\\distributed.py:45: UserWarning: Detected KeyboardInterrupt, attempting graceful shutdown...\n",
      "  warnings.warn(*args, **kwargs)\n"
     ]
    },
    {
     "data": {
      "text/plain": [
       "1"
      ]
     },
     "execution_count": 13,
     "metadata": {},
     "output_type": "execute_result"
    }
   ],
   "source": [
    "learn = Learner(model)\n",
    "trainer = pl.Trainer(min_epochs=200, max_epochs=300)\n",
    "trainer.fit(learn)"
   ]
  },
  {
   "cell_type": "code",
   "execution_count": 14,
   "metadata": {},
   "outputs": [],
   "source": [
    "s_span = torch.linspace(0,1,100)\n",
    "trajectory = model.trajectory(X_train, s_span).detach().cpu()"
   ]
  },
  {
   "cell_type": "code",
   "execution_count": 19,
   "metadata": {},
   "outputs": [
    {
     "data": {
      "text/plain": [
       "Text(0.5, 1.0, 'Dimension 0')"
      ]
     },
     "execution_count": 19,
     "metadata": {},
     "output_type": "execute_result"
    },
    {
     "data": {
      "image/png": "[encoded data removed]",
      "text/plain": [
       "<Figure size 720x360 with 1 Axes>"
      ]
     },
     "metadata": {
      "needs_background": "light"
     },
     "output_type": "display_data"
    }
   ],
   "source": [
    "color=['orange', 'blue']\n",
    "\n",
    "fig = plt.figure(figsize=(10,5))\n",
    "ax0 = fig.add_subplot(111)\n",
    "for i in range(500):\n",
    "    ax0.plot(s_span, trajectory[:,i,0], c='orange', alpha=.3)\n",
    "ax0.set_xlabel(r\"$s$ [Depth]\")\n",
    "ax0.set_ylabel(r\"$h_0(s)$\")\n",
    "ax0.set_title(\"Dimension 0\")"
   ]
  },
  {
   "cell_type": "code",
   "execution_count": 21,
   "metadata": {},
   "outputs": [],
   "source": [
    "# evaluate vector field\n",
    "# n_pts = 50\n",
    "# x = torch.linspace(trajectory[:,:,0].min(), trajectory[:,:,0].max(), n_pts)\n",
    "# y = torch.linspace(trajectory[:,:,1].min(), trajectory[:,:,1].max(), n_pts)\n",
    "# X, Y = torch.meshgrid(x, y) ; z = torch.cat([X.reshape(-1,1), Y.reshape(-1,1)], 1)\n",
    "# f = model.defunc(0,z.to(device)).cpu().detach()\n",
    "# fx, fy = f[:,0], f[:,1] ; fx, fy = fx.reshape(n_pts , n_pts), fy.reshape(n_pts, n_pts)\n",
    "# # plot vector field and its intensity\n",
    "# fig = plt.figure(figsize=(4, 4)) ; ax = fig.add_subplot(111)\n",
    "# ax.streamplot(X.numpy().T, Y.numpy().T, fx.numpy().T, fy.numpy().T, color='black')\n",
    "# ax.contourf(X.T, Y.T, torch.sqrt(fx.T**2+fy.T**2), cmap='RdYlBu')"
   ]
  },
  {
   "cell_type": "markdown",
   "metadata": {},
   "source": [
    "<a id=\"ref\"></a> "
   ]
  },
  {
   "cell_type": "markdown",
   "metadata": {},
   "source": [
    "# References\n",
    "1. [Chen, R. T., Rubanova, Y., Bettencourt, J., & Duvenaud, D. K. (2018)](https://papers.nips.cc/paper/2018/file/69386f6bb1dfed68692a24c8686939b9-Paper.pdf). Neural ordinary differential equations. In Advances in neural information processing systems (pp. 6571-6583).\n",
    "2. [Poli, M., Massaroli, S., Yamashita, A., Asama, H., & Park, J. (2020)](https://arxiv.org/pdf/2009.09346.pdf). Torchdyn: A neural differential equations library. arXiv preprint arXiv:2009.09346."
   ]
  }
 ],
 "metadata": {
  "kernelspec": {
   "display_name": "Python 3",
   "language": "python",
   "name": "python3"
  },
  "language_info": {
   "codemirror_mode": {
    "name": "ipython",
    "version": 3
   },
   "file_extension": ".py",
   "mimetype": "text/x-python",
   "name": "python",
   "nbconvert_exporter": "python",
   "pygments_lexer": "ipython3",
   "version": "3.7.6"
  }
 },
 "nbformat": 4,
 "nbformat_minor": 4
}
